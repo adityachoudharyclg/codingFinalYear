{
 "cells": [
  {
   "cell_type": "markdown",
   "metadata": {},
   "source": [
    "### lis best algo\n",
    "https://www.geeksforgeeks.org/longest-monotonically-increasing-subsequence-size-n-log-n/\n",
    "\n",
    "![title](lisBEST.png)"
   ]
  },
  {
   "cell_type": "code",
   "execution_count": 1,
   "metadata": {},
   "outputs": [
    {
     "output_type": "stream",
     "name": "stdout",
     "text": "[0, 2, 6, 9, 11, 15]\n"
    }
   ],
   "source": [
    "def find_smallest_elem_as_big_as(sequence, subsequence, elem):\n",
    "    \"\"\"Returns the index of the smallest element in subsequence as big as          \n",
    "    sequence[elem].  sequence[elem] must not be larger than every element in       \n",
    "    subsequence.  The elements in subsequence are indices in sequence.  Uses       \n",
    "    binary search.\"\"\"\n",
    "\n",
    "    low = 0\n",
    "    high = len(subsequence) - 1\n",
    "\n",
    "    while high > low:\n",
    "        mid = (high + low) // 2\n",
    "        # If the current element is not as big as elem, throw out the low half of    \n",
    "        # sequence.                                                                  \n",
    "        if sequence[subsequence[mid]] < sequence[elem]:\n",
    "            low = mid + 1\n",
    "            # If the current element is as big as elem, throw out everything bigger, but \n",
    "        # keep the current element.                                                  \n",
    "        else:\n",
    "            high = mid\n",
    "\n",
    "    return high\n",
    "\n",
    "\n",
    "def optimized_dynamic_programming_solution(sequence):\n",
    "    \"\"\"Finds the longest increasing subsequence in sequence using dynamic          \n",
    "    programming and binary search (per                                             \n",
    "    http://en.wikipedia.org/wiki/Longest_increasing_subsequence).  This solution   \n",
    "    is O(n log n).\"\"\"\n",
    "\n",
    "    # Both of these lists hold the indices of elements in sequence and not the        \n",
    "    # elements themselves.                                                         \n",
    "    # This list will always be sorted.                                             \n",
    "    smallest_end_to_subsequence_of_length = []\n",
    "\n",
    "    # This array goes along with sequence (not                                     \n",
    "    # smallest_end_to_subsequence_of_length).  Following the corresponding element \n",
    "    # in this array repeatedly will generate the desired subsequence.              \n",
    "    parent = [None for _ in sequence]\n",
    "\n",
    "    for elem in range(len(sequence)):\n",
    "        # We're iterating through sequence in order, so if elem is bigger than the   \n",
    "        # end of longest current subsequence, we have a new longest increasing          \n",
    "        # subsequence.                                                               \n",
    "        if (len(smallest_end_to_subsequence_of_length) == 0 or\n",
    "                    sequence[elem] > sequence[smallest_end_to_subsequence_of_length[-1]]):\n",
    "            # If we are adding the first element, it has no parent.  Otherwise, we        \n",
    "            # need to update the parent to be the previous biggest element.            \n",
    "            if len(smallest_end_to_subsequence_of_length) > 0:\n",
    "                parent[elem] = smallest_end_to_subsequence_of_length[-1]\n",
    "            smallest_end_to_subsequence_of_length.append(elem)\n",
    "        else:\n",
    "            # If we can't make a longer subsequence, we might be able to make a        \n",
    "            # subsequence of equal size to one of our earlier subsequences with a         \n",
    "            # smaller ending number (which makes it easier to find a later number that \n",
    "            # is increasing).                                                          \n",
    "            # Thus, we look for the smallest element in                                \n",
    "            # smallest_end_to_subsequence_of_length that is at least as big as elem       \n",
    "            # and replace it with elem.                                                \n",
    "            # This preserves correctness because if there is a subsequence of length n \n",
    "            # that ends with a number smaller than elem, we could add elem on to the   \n",
    "            # end of that subsequence to get a subsequence of length n+1.              \n",
    "            location_to_replace = find_smallest_elem_as_big_as(sequence, smallest_end_to_subsequence_of_length, elem)\n",
    "            smallest_end_to_subsequence_of_length[location_to_replace] = elem\n",
    "            # If we're replacing the first element, we don't need to update its parent \n",
    "            # because a subsequence of length 1 has no parent.  Otherwise, its parent  \n",
    "            # is the subsequence one shorter, which we just added onto.                \n",
    "            if location_to_replace != 0:\n",
    "                parent[elem] = (smallest_end_to_subsequence_of_length[location_to_replace - 1])\n",
    "\n",
    "    # Generate the longest increasing subsequence by backtracking through parent.  \n",
    "    curr_parent = smallest_end_to_subsequence_of_length[-1]\n",
    "    longest_increasing_subsequence = []\n",
    "\n",
    "    while curr_parent is not None:\n",
    "        longest_increasing_subsequence.append(sequence[curr_parent])\n",
    "        curr_parent = parent[curr_parent]\n",
    "\n",
    "    longest_increasing_subsequence.reverse()\n",
    "\n",
    "    return longest_increasing_subsequence         \n",
    "\n",
    "print(optimized_dynamic_programming_solution([0,8,4,12,2,10,6,14,1,9,5,13,3,11,7,15]))"
   ]
  },
  {
   "cell_type": "code",
   "execution_count": null,
   "metadata": {},
   "outputs": [],
   "source": []
  }
 ],
 "metadata": {
  "language_info": {
   "codemirror_mode": {
    "name": "ipython",
    "version": 3
   },
   "file_extension": ".py",
   "mimetype": "text/x-python",
   "name": "python",
   "nbconvert_exporter": "python",
   "pygments_lexer": "ipython3",
   "version": "3.7.3-final"
  },
  "orig_nbformat": 2,
  "kernelspec": {
   "name": "python37364bit246f1682de984176ba91b2ff575b0ee0",
   "display_name": "Python 3.7.3 64-bit"
  }
 },
 "nbformat": 4,
 "nbformat_minor": 2
}